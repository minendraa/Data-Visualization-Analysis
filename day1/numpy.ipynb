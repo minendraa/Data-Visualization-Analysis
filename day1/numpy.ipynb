{
 "cells": [
  {
   "cell_type": "markdown",
   "id": "6e44572a",
   "metadata": {},
   "source": [
    "# NumPy: Numerical Python\n",
    "\n",
    "NumPy is a library for numerical computations in Python. It provides:\n",
    "- Fast and memory-efficient array operations\n",
    "- Tools for mathematical, logical, and statistical computations\n",
    "- Broadcasting and vectorized operations"
   ]
  },
  {
   "cell_type": "code",
   "execution_count": 3,
   "id": "5dfb92b5",
   "metadata": {},
   "outputs": [
    {
     "name": "stdout",
     "output_type": "stream",
     "text": [
      "Collecting numpy\n",
      "  Obtaining dependency information for numpy from https://files.pythonhosted.org/packages/bc/49/d5781eaa1a15acb3b3a3f49dc9e2ff18d92d0ce5c2976f4ab5c0a7360250/numpy-2.3.0-cp312-cp312-win_amd64.whl.metadata\n",
      "  Downloading numpy-2.3.0-cp312-cp312-win_amd64.whl.metadata (60 kB)\n",
      "     ---------------------------------------- 0.0/60.9 kB ? eta -:--:--\n",
      "     ------------ ------------------------- 20.5/60.9 kB 682.7 kB/s eta 0:00:01\n",
      "     ------------------- ------------------ 30.7/60.9 kB 445.2 kB/s eta 0:00:01\n",
      "     -------------------------------------- 60.9/60.9 kB 405.2 kB/s eta 0:00:00\n",
      "Downloading numpy-2.3.0-cp312-cp312-win_amd64.whl (12.7 MB)\n",
      "   ---------------------------------------- 0.0/12.7 MB ? eta -:--:--\n",
      "   ---------------------------------------- 0.1/12.7 MB 1.7 MB/s eta 0:00:08\n",
      "   ---------------------------------------- 0.1/12.7 MB 1.1 MB/s eta 0:00:13\n",
      "    --------------------------------------- 0.2/12.7 MB 1.5 MB/s eta 0:00:09\n",
      "    --------------------------------------- 0.3/12.7 MB 1.6 MB/s eta 0:00:08\n",
      "   - -------------------------------------- 0.5/12.7 MB 2.0 MB/s eta 0:00:07\n",
      "   - -------------------------------------- 0.5/12.7 MB 1.8 MB/s eta 0:00:07\n",
      "   --- ------------------------------------ 1.0/12.7 MB 3.1 MB/s eta 0:00:04\n",
      "   --- ------------------------------------ 1.0/12.7 MB 2.9 MB/s eta 0:00:05\n",
      "   ---- ----------------------------------- 1.4/12.7 MB 3.5 MB/s eta 0:00:04\n",
      "   ------ --------------------------------- 2.1/12.7 MB 4.6 MB/s eta 0:00:03\n",
      "   -------- ------------------------------- 2.6/12.7 MB 5.1 MB/s eta 0:00:02\n",
      "   ---------- ----------------------------- 3.4/12.7 MB 6.1 MB/s eta 0:00:02\n",
      "   ------------ --------------------------- 3.9/12.7 MB 6.5 MB/s eta 0:00:02\n",
      "   --------------- ------------------------ 4.9/12.7 MB 7.6 MB/s eta 0:00:02\n",
      "   ----------------- ---------------------- 5.5/12.7 MB 8.2 MB/s eta 0:00:01\n",
      "   ----------------- ---------------------- 5.5/12.7 MB 8.2 MB/s eta 0:00:01\n",
      "   ------------------- -------------------- 6.2/12.7 MB 8.0 MB/s eta 0:00:01\n",
      "   --------------------- ------------------ 6.7/12.7 MB 8.1 MB/s eta 0:00:01\n",
      "   ----------------------- ---------------- 7.5/12.7 MB 8.5 MB/s eta 0:00:01\n",
      "   ------------------------ --------------- 7.7/12.7 MB 8.6 MB/s eta 0:00:01\n",
      "   -------------------------- ------------- 8.4/12.7 MB 8.7 MB/s eta 0:00:01\n",
      "   --------------------------- ------------ 8.9/12.7 MB 9.0 MB/s eta 0:00:01\n",
      "   ----------------------------- ---------- 9.4/12.7 MB 8.9 MB/s eta 0:00:01\n",
      "   ------------------------------- -------- 10.1/12.7 MB 9.1 MB/s eta 0:00:01\n",
      "   ---------------------------------- ----- 11.1/12.7 MB 12.1 MB/s eta 0:00:01\n",
      "   ------------------------------------ --- 11.6/12.7 MB 13.4 MB/s eta 0:00:01\n",
      "   ------------------------------------- -- 11.9/12.7 MB 12.8 MB/s eta 0:00:01\n",
      "   ---------------------------------------  12.7/12.7 MB 12.8 MB/s eta 0:00:01\n",
      "   ---------------------------------------- 12.7/12.7 MB 12.3 MB/s eta 0:00:00\n",
      "Installing collected packages: numpy\n",
      "Successfully installed numpy-2.3.0\n",
      "Note: you may need to restart the kernel to use updated packages.\n"
     ]
    },
    {
     "name": "stderr",
     "output_type": "stream",
     "text": [
      "\n",
      "[notice] A new release of pip is available: 23.2.1 -> 25.1.1\n",
      "[notice] To update, run: python.exe -m pip install --upgrade pip\n"
     ]
    }
   ],
   "source": [
    "pip install numpy\n"
   ]
  },
  {
   "cell_type": "code",
   "execution_count": 5,
   "id": "0420db69",
   "metadata": {},
   "outputs": [],
   "source": [
    "import numpy as np "
   ]
  },
  {
   "cell_type": "code",
   "execution_count": 9,
   "id": "ca26e109",
   "metadata": {},
   "outputs": [
    {
     "name": "stdout",
     "output_type": "stream",
     "text": [
      "python list time:  0.008319377899169922\n"
     ]
    }
   ],
   "source": [
    "import time \n",
    "a=list(range(100000))\n",
    "b=list(range(100000))\n",
    "\n",
    "start = time.time()\n",
    "result=[x+y for x,y in zip(a,b)]\n",
    "end=time.time()\n",
    "print(\"python list time: \",end-start)"
   ]
  },
  {
   "cell_type": "code",
   "execution_count": 11,
   "id": "66b03b95",
   "metadata": {},
   "outputs": [
    {
     "name": "stdout",
     "output_type": "stream",
     "text": [
      "Numpy Array time:  0.001013040542602539\n"
     ]
    }
   ],
   "source": [
    "a_np=np.arange(100000)\n",
    "b_np=np.arange(100000)\n",
    "\n",
    "start=time.time()\n",
    "result_np= a_np+b_np\n",
    "end=time.time()\n",
    "print(\"Numpy Array time: \",end-start)"
   ]
  },
  {
   "cell_type": "code",
   "execution_count": 13,
   "id": "8ef4a09b",
   "metadata": {},
   "outputs": [
    {
     "name": "stdout",
     "output_type": "stream",
     "text": [
      "[5 7 9]\n"
     ]
    }
   ],
   "source": [
    "import numpy as np\n",
    "a=np.array([1,2,3])\n",
    "b=np.array([4,5,6])\n",
    "c=a+b\n",
    "print(c)"
   ]
  },
  {
   "cell_type": "code",
   "execution_count": 16,
   "id": "bffb8ab9",
   "metadata": {},
   "outputs": [
    {
     "name": "stdout",
     "output_type": "stream",
     "text": [
      "[2 4 6]\n"
     ]
    }
   ],
   "source": [
    "a=np.array([1,2,3])\n",
    "b=2\n",
    "c=a*b\n",
    "print(c)"
   ]
  },
  {
   "cell_type": "code",
   "execution_count": 20,
   "id": "3a1c922f",
   "metadata": {},
   "outputs": [
    {
     "name": "stdout",
     "output_type": "stream",
     "text": [
      "1D Array : [1 2 3 4 5]\n"
     ]
    },
    {
     "data": {
      "text/plain": [
       "1"
      ]
     },
     "execution_count": 20,
     "metadata": {},
     "output_type": "execute_result"
    }
   ],
   "source": [
    "#from python list\n",
    "a=np.array([1,2,3,4,5])\n",
    "print(\"1D Array :\",a)\n",
    "a.ndim"
   ]
  },
  {
   "cell_type": "code",
   "execution_count": 24,
   "id": "39ecf3ba",
   "metadata": {},
   "outputs": [
    {
     "name": "stdout",
     "output_type": "stream",
     "text": [
      "2D Array: \n",
      " [[1 2 3]\n",
      " [4 5 6]]\n"
     ]
    },
    {
     "data": {
      "text/plain": [
       "2"
      ]
     },
     "execution_count": 24,
     "metadata": {},
     "output_type": "execute_result"
    }
   ],
   "source": [
    "b=np.array([[1,2,3],[4,5,6]])\n",
    "print(\"2D Array: \\n\",b)\n",
    "b.ndim"
   ]
  },
  {
   "cell_type": "code",
   "execution_count": 29,
   "id": "0037db47",
   "metadata": {},
   "outputs": [
    {
     "name": "stdout",
     "output_type": "stream",
     "text": [
      "3D Array: \n",
      " [[[1 2 3]\n",
      "  [2 3 4]\n",
      "  [3 4 5]]\n",
      "\n",
      " [[4 5 6]\n",
      "  [5 6 7]\n",
      "  [6 7 8]]]\n"
     ]
    },
    {
     "data": {
      "text/plain": [
       "3"
      ]
     },
     "execution_count": 29,
     "metadata": {},
     "output_type": "execute_result"
    }
   ],
   "source": [
    "c = np.array([[[1,2,3],[2,3,4],[3,4,5]], [[4,5,6],[5,6,7],[6,7,8]]])\n",
    "print(\"3D Array: \\n\",c)\n",
    "c.ndim"
   ]
  },
  {
   "cell_type": "code",
   "execution_count": 31,
   "id": "4b27617a",
   "metadata": {},
   "outputs": [
    {
     "name": "stdout",
     "output_type": "stream",
     "text": [
      "Zeros: \n",
      " [[0 0 0]\n",
      " [0 0 0]] \n",
      "Ones: \n",
      " [[1. 1.]\n",
      " [1. 1.]\n",
      " [1. 1.]] \n",
      "Arange: \n",
      " [0 2 4 6 8] \n",
      "Linspace: \n",
      " [0.   0.25 0.5  0.75 1.  ]\n"
     ]
    }
   ],
   "source": [
    "#using builtin function\n",
    "zeros=np.zeros((2,3),dtype=int)\n",
    "ones=np.ones((3,2))\n",
    "arange=np.arange(0,10,2)\n",
    "linspace=np.linspace(0,1,5)\n",
    "\n",
    "print(\"Zeros: \\n\",zeros,\"\\nOnes: \\n\",ones,\"\\nArange: \\n\",arange,\"\\nLinspace: \\n\",linspace)"
   ]
  },
  {
   "cell_type": "code",
   "execution_count": 32,
   "id": "81d90690",
   "metadata": {},
   "outputs": [
    {
     "name": "stdout",
     "output_type": "stream",
     "text": [
      "Element at row 1, col 2:  20\n"
     ]
    }
   ],
   "source": [
    "#indexing \n",
    "arr=np.array([[10,20,30],[40,50,60],[70,80,90]])\n",
    "print(\"Element at row 1, col 2: \",arr[0,1])"
   ]
  },
  {
   "cell_type": "code",
   "execution_count": 33,
   "id": "ec450a4f",
   "metadata": {},
   "outputs": [
    {
     "name": "stdout",
     "output_type": "stream",
     "text": [
      "\n",
      "First two rows: \n",
      " [[10 20 30]\n",
      " [40 50 60]]\n",
      "\n",
      "LAst column: \n",
      " [30 60 90]\n",
      "\n",
      "Elements > 50:\n",
      " [60 70 80 90]\n"
     ]
    }
   ],
   "source": [
    "#slicing\n",
    "print(\"\\nFirst two rows: \\n\",arr[:2])\n",
    "print(\"\\nLAst column: \\n\",arr[:,-1])\n",
    "\n",
    "print(\"\\nElements > 50:\\n\",arr[arr>50])"
   ]
  },
  {
   "cell_type": "code",
   "execution_count": 35,
   "id": "24087852",
   "metadata": {},
   "outputs": [
    {
     "name": "stdout",
     "output_type": "stream",
     "text": [
      "Addition:  [5 7 9]\n",
      "Substraction:  [-3 -3 -3]\n",
      "Multiplication: [5 7 9]\n",
      "Scalar Multiplication: [10 20 30]\n"
     ]
    }
   ],
   "source": [
    "x=np.array([1,2,3])\n",
    "y=np.array([4,5,6])\n",
    "\n",
    "print(\"Addition: \",x+y)\n",
    "print(\"Substraction: \",x-y)\n",
    "print(\"Multiplication:\",x+y)\n",
    "print(\"Scalar Multiplication:\",x*10)"
   ]
  },
  {
   "cell_type": "code",
   "execution_count": 41,
   "id": "5c1a7920",
   "metadata": {},
   "outputs": [
    {
     "name": "stdout",
     "output_type": "stream",
     "text": [
      "\n",
      "Matrix Multiplication: \n",
      " [[ 4  4]\n",
      " [10  8]]\n",
      "Mean of x:  2.0\n",
      "Standard deviation of x: 0.816496580927726\n",
      "Max of y:  6\n",
      "Min of y:  4\n"
     ]
    }
   ],
   "source": [
    "a=np.array([[1,2],[3,4]])\n",
    "b=np.array([[2,0],[1,2]])\n",
    "print(\"\\nMatrix Multiplication: \\n\",a @ b)\n",
    "\n",
    "print(\"Mean of x: \",np.mean(x))\n",
    "print(\"Standard deviation of x:\",np.std(x))\n",
    "print(\"Max of y: \",np.max(y))\n",
    "print(\"Min of y: \",np.min(y))"
   ]
  },
  {
   "cell_type": "code",
   "execution_count": 44,
   "id": "5b8000ff",
   "metadata": {},
   "outputs": [
    {
     "name": "stdout",
     "output_type": "stream",
     "text": [
      "Matrix Multiplication: \n",
      " [[ 4  4]\n",
      " [10  8]]\n"
     ]
    }
   ],
   "source": [
    "mat1 = np.array([[1, 2],\n",
    "              [3, 4]])\n",
    "mat2 = np.array([[2, 0],\n",
    "              [1, 2]])\n",
    "\n",
    "# [1, 2]*[2,1]  [1, 2]*[0,2]\n",
    "# [3, 4]*[2,1]  [3, 4]*[0,2]\n",
    "\n",
    "result=np.dot(mat1,mat2)\n",
    "print(\"Matrix Multiplication: \\n\",result)"
   ]
  },
  {
   "cell_type": "code",
   "execution_count": 46,
   "id": "9e829e92",
   "metadata": {},
   "outputs": [
    {
     "name": "stdout",
     "output_type": "stream",
     "text": [
      "[ 0  1  2  3  4  5  6  7  8  9 10 11]\n",
      "Shape array: \n",
      " (12,)\n",
      "Reshaped: \n",
      " [[ 0  1  2  3  4  5]\n",
      " [ 6  7  8  9 10 11]]\n",
      "Flattened:  [ 0  1  2  3  4  5  6  7  8  9 10 11]\n"
     ]
    }
   ],
   "source": [
    "arr=np.arange(12)\n",
    "print(arr)\n",
    "\n",
    "shaped=arr.shape\n",
    "print(\"Shape array: \\n\",shaped)\n",
    "\n",
    "reshaped=arr.reshape(2,6)\n",
    "print(\"Reshaped: \\n\",reshaped)\n",
    "\n",
    "flattened=arr.flatten()\n",
    "print(\"Flattened: \",flattened)"
   ]
  },
  {
   "cell_type": "code",
   "execution_count": null,
   "id": "5f2ed02f",
   "metadata": {},
   "outputs": [],
   "source": []
  }
 ],
 "metadata": {
  "kernelspec": {
   "display_name": "venv",
   "language": "python",
   "name": "python3"
  },
  "language_info": {
   "codemirror_mode": {
    "name": "ipython",
    "version": 3
   },
   "file_extension": ".py",
   "mimetype": "text/x-python",
   "name": "python",
   "nbconvert_exporter": "python",
   "pygments_lexer": "ipython3",
   "version": "3.12.1"
  }
 },
 "nbformat": 4,
 "nbformat_minor": 5
}
