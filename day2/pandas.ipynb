{
 "cells": [
  {
   "cell_type": "code",
   "execution_count": 27,
   "id": "282055b3",
   "metadata": {},
   "outputs": [
    {
     "name": "stdout",
     "output_type": "stream",
     "text": [
      "[['John' '20' 'Male']\n",
      " ['' '22' 'Female']\n",
      " ['Henry' '25' 'Male']\n",
      " ['Smith' '30' 'Male']\n",
      " ['Susan' '27' 'Female']\n",
      " ['Minendra' '19' 'Male']]\n",
      "       Name Age  Gender\n",
      "0      John  20    Male\n",
      "1            22  Female\n",
      "2     Henry  25    Male\n",
      "3     Smith  30    Male\n",
      "4     Susan  27  Female\n",
      "5  Minendra  19    Male\n"
     ]
    }
   ],
   "source": [
    "import numpy as np\n",
    "import pandas as pd\n",
    "\n",
    "data=np.array([[\"John\",20,\"Male\"],[\"\",22,\"Female\"],[\"Henry\",25,\"Male\"],[\"Smith\",30,\"Male\"],[\"Susan\",27,\"Female\"],[\"Minendra\",19,\"Male\"]])\n",
    "print(data)\n",
    "\n",
    "df=pd.DataFrame(data,columns=['Name','Age','Gender'])\n",
    "\n",
    "print(df)"
   ]
  },
  {
   "cell_type": "markdown",
   "id": "72f97398",
   "metadata": {},
   "source": [
    "#### Pandas DataFrame comes is a powerful tool that allows us to store and manipulate data in a structured way, "
   ]
  },
  {
   "cell_type": "code",
   "execution_count": 28,
   "id": "1ebef8b8",
   "metadata": {},
   "outputs": [
    {
     "data": {
      "text/plain": [
       "RangeIndex(start=0, stop=6, step=1)"
      ]
     },
     "execution_count": 28,
     "metadata": {},
     "output_type": "execute_result"
    }
   ],
   "source": [
    "df.index"
   ]
  },
  {
   "cell_type": "code",
   "execution_count": 29,
   "id": "f70f5509",
   "metadata": {},
   "outputs": [
    {
     "name": "stdout",
     "output_type": "stream",
     "text": [
      "    Name Age  Gender\n",
      "0   John  20    Male\n",
      "1         22  Female\n",
      "2  Henry  25    Male\n",
      "3  Smith  30    Male\n"
     ]
    }
   ],
   "source": [
    "print(df.head(4))"
   ]
  },
  {
   "cell_type": "code",
   "execution_count": 30,
   "id": "1ce43598",
   "metadata": {},
   "outputs": [
    {
     "name": "stdout",
     "output_type": "stream",
     "text": [
      "    Name Age  Gender\n",
      "0   John  20    Male\n",
      "1         22  Female\n",
      "2  Henry  25    Male\n",
      "3  Smith  30    Male\n",
      "4  Susan  27  Female\n"
     ]
    }
   ],
   "source": [
    "print(df.head())"
   ]
  },
  {
   "cell_type": "code",
   "execution_count": 31,
   "id": "27fbbdf6",
   "metadata": {},
   "outputs": [
    {
     "name": "stdout",
     "output_type": "stream",
     "text": [
      "       Name Age  Gender\n",
      "4     Susan  27  Female\n",
      "5  Minendra  19    Male\n"
     ]
    }
   ],
   "source": [
    "print(df.tail(2))"
   ]
  },
  {
   "cell_type": "code",
   "execution_count": 33,
   "id": "45c384c1",
   "metadata": {},
   "outputs": [
    {
     "name": "stdout",
     "output_type": "stream",
     "text": [
      "       Name Age  Gender\n",
      "1            22  Female\n",
      "2     Henry  25    Male\n",
      "3     Smith  30    Male\n",
      "4     Susan  27  Female\n",
      "5  Minendra  19    Male\n"
     ]
    }
   ],
   "source": [
    "print(df.tail())"
   ]
  },
  {
   "cell_type": "markdown",
   "id": "8697ee58",
   "metadata": {},
   "source": [
    "## Difference Between Series and DataFrame in Pandas\n",
    "\n",
    "In **Pandas**, both `Series` and `DataFrame` are data structures used for data manipulation.\n",
    "\n",
    "### Series\n",
    "- A **Series** is a one-dimensional labeled array capable of holding any data type (integers, strings, floating point numbers, Python objects, etc.).\n",
    "- It is similar to a column in a spreadsheet or a database table.\n",
    "\n",
    "### DataFrame\n",
    "- A **DataFrame** is a two-dimensional labeled data structure with columns of potentially different types.\n",
    "- It is similar to a table in a database or an Excel spreadsheet."
   ]
  },
  {
   "cell_type": "code",
   "execution_count": 35,
   "id": "6a811938",
   "metadata": {},
   "outputs": [
    {
     "name": "stdout",
     "output_type": "stream",
     "text": [
      "0    10\n",
      "1    20\n",
      "2    30\n",
      "3    40\n",
      "Name: Numbers, dtype: int64\n",
      "\n",
      "Type of Series:  <class 'pandas.core.series.Series'>\n"
     ]
    }
   ],
   "source": [
    "import pandas as pd \n",
    "series = pd.Series([10,20,30,40],name=\"Numbers\")\n",
    "print(series)\n",
    "\n",
    "print(\"\\nType of Series: \",type(series))"
   ]
  },
  {
   "cell_type": "code",
   "execution_count": 56,
   "id": "74da0d61",
   "metadata": {},
   "outputs": [
    {
     "name": "stdout",
     "output_type": "stream",
     "text": [
      "      Name  Age\n",
      "0    Alice   25\n",
      "1      Bob   30\n",
      "2  Charlie   35\n",
      "3    David   40\n",
      "\n",
      "Type of Dataframe:  <class 'pandas.core.frame.DataFrame'>\n"
     ]
    }
   ],
   "source": [
    "#Creating data frame\n",
    "data={\n",
    "    \"Name\":[\"Alice\",\"Bob\",\"Charlie\",\"David\"],\n",
    "    \"Age\":[25,30,35,40]\n",
    "}\n",
    "df=pd.DataFrame(data)\n",
    "print(df)\n",
    "\n",
    "print(\"\\nType of Dataframe: \",type(df))"
   ]
  },
  {
   "cell_type": "code",
   "execution_count": 37,
   "id": "f1db59e4",
   "metadata": {},
   "outputs": [
    {
     "data": {
      "text/plain": [
       "RangeIndex(start=0, stop=6, step=1)"
      ]
     },
     "execution_count": 37,
     "metadata": {},
     "output_type": "execute_result"
    }
   ],
   "source": [
    "df.index"
   ]
  },
  {
   "cell_type": "code",
   "execution_count": 44,
   "id": "163f862b",
   "metadata": {},
   "outputs": [
    {
     "name": "stdout",
     "output_type": "stream",
     "text": [
      "[0 1 2 3]\n"
     ]
    }
   ],
   "source": [
    "print(df.index.values)"
   ]
  },
  {
   "cell_type": "code",
   "execution_count": 57,
   "id": "3fbea541",
   "metadata": {},
   "outputs": [
    {
     "name": "stdout",
     "output_type": "stream",
     "text": [
      "         Age\n",
      "Name        \n",
      "Alice     25\n",
      "Bob       30\n",
      "Charlie   35\n",
      "David     40\n"
     ]
    }
   ],
   "source": [
    "df=df.set_index('Name')\n",
    "print(df)"
   ]
  },
  {
   "cell_type": "code",
   "execution_count": 46,
   "id": "3cee94c0",
   "metadata": {},
   "outputs": [
    {
     "data": {
      "text/plain": [
       "array(['Alice', 'Bob', 'Charlie', 'David'], dtype=object)"
      ]
     },
     "execution_count": 46,
     "metadata": {},
     "output_type": "execute_result"
    }
   ],
   "source": [
    "df.index.values"
   ]
  },
  {
   "cell_type": "code",
   "execution_count": 47,
   "id": "b3255ad0",
   "metadata": {},
   "outputs": [
    {
     "data": {
      "text/plain": [
       "<bound method IndexOpsMixin.value_counts of Index(['Alice', 'Bob', 'Charlie', 'David'], dtype='object', name='Name')>"
      ]
     },
     "execution_count": 47,
     "metadata": {},
     "output_type": "execute_result"
    }
   ],
   "source": [
    "df.index.value_counts"
   ]
  },
  {
   "cell_type": "code",
   "execution_count": 58,
   "id": "1e3cf180",
   "metadata": {},
   "outputs": [
    {
     "name": "stdout",
     "output_type": "stream",
     "text": [
      "Before reset_index(): \n",
      "         Age\n",
      "Name        \n",
      "Alice     25\n",
      "Bob       30\n",
      "Charlie   35\n",
      "David     40\n",
      "\n",
      "After reset_index() with inplace=True: \n",
      "      Name  Age\n",
      "0    Alice   25\n",
      "1      Bob   30\n",
      "2  Charlie   35\n",
      "3    David   40\n"
     ]
    }
   ],
   "source": [
    "import pandas as pd \n",
    "print(\"Before reset_index(): \")\n",
    "print(df)\n",
    "df.reset_index(inplace=True)\n",
    "\n",
    "print(\"\\nAfter reset_index() with inplace=True: \")\n",
    "print(df)"
   ]
  },
  {
   "cell_type": "code",
   "execution_count": null,
   "id": "ccd869c3",
   "metadata": {},
   "outputs": [],
   "source": []
  }
 ],
 "metadata": {
  "kernelspec": {
   "display_name": "venv",
   "language": "python",
   "name": "python3"
  },
  "language_info": {
   "codemirror_mode": {
    "name": "ipython",
    "version": 3
   },
   "file_extension": ".py",
   "mimetype": "text/x-python",
   "name": "python",
   "nbconvert_exporter": "python",
   "pygments_lexer": "ipython3",
   "version": "3.12.1"
  }
 },
 "nbformat": 4,
 "nbformat_minor": 5
}
