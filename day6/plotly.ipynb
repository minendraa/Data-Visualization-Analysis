{
 "cells": [
  {
   "cell_type": "code",
   "execution_count": 7,
   "id": "306db736",
   "metadata": {},
   "outputs": [],
   "source": [
    "import plotly.graph_objects as go\n",
    "import plotly.express as px\n",
    "import pandas as pd\n",
    "import numpy as np\n",
    "\n",
    "# 1. Scatter Plot Example (Using Plotly Express)\n",
    "# Create a simple dataframe\n",
    "df = pd.DataFrame({\n",
    "    'sepal_length': [5.1, 4.9, 4.7, 4.6, 5.0, 5.4, 4.8],\n",
    "    'sepal_width': [3.5, 3.0, 3.2, 3.1, 3.6, 3.9, 3.0],\n",
    "    'species': ['setosa', 'setosa', 'versicolor', 'versicolor', 'virginica', 'virginica', 'setosa']\n",
    "})\n",
    "\n",
    "# Create scatter plot\n",
    "fig1 = px.scatter(df, x='sepal_length', y='sepal_width', color='species',\n",
    "                  title='Scatter Plot of Sepal Length vs Sepal Width')\n",
    "\n",
    "# Show scatter plot\n",
    "fig1.show(renderer='browser')\n",
    "\n",
    "# 2. Line Plot Example (Using Plotly Graph Objects)\n",
    "# Sample data\n",
    "x = np.arange(0, 10, 0.1)\n",
    "y = np.sin(x)\n",
    "\n",
    "# Create line plot\n",
    "fig2 = go.Figure(data=go.Scatter(x=x, y=y, mode='lines', name='Sine Wave'))\n",
    "fig2.update_layout(title='Line Plot of Sine Wave', xaxis_title='X-axis', yaxis_title='Y-axis')\n",
    "\n",
    "# Show line plot\n",
    "fig2.show(renderer='browser')\n",
    "\n",
    "# 3. Heatmap Example (Using Plotly Graph Objects)\n",
    "# Create random correlation matrix data\n",
    "corr_data = np.random.rand(10, 10)\n",
    "\n",
    "# Create heatmap\n",
    "fig3 = go.Figure(data=go.Heatmap(\n",
    "    z=corr_data, colorscale='Viridis', zmin=0, zmax=1,\n",
    "    colorbar=dict(title='Correlation')\n",
    "))\n",
    "\n",
    "fig3.update_layout(title='Random Correlation Matrix Heatmap')\n",
    "\n",
    "# Show heatmap\n",
    "fig3.show(renderer='browser')\n"
   ]
  },
  {
   "cell_type": "code",
   "execution_count": null,
   "id": "6a32b45d",
   "metadata": {},
   "outputs": [],
   "source": []
  }
 ],
 "metadata": {
  "kernelspec": {
   "display_name": "venv",
   "language": "python",
   "name": "python3"
  },
  "language_info": {
   "codemirror_mode": {
    "name": "ipython",
    "version": 3
   },
   "file_extension": ".py",
   "mimetype": "text/x-python",
   "name": "python",
   "nbconvert_exporter": "python",
   "pygments_lexer": "ipython3",
   "version": "3.12.1"
  }
 },
 "nbformat": 4,
 "nbformat_minor": 5
}
